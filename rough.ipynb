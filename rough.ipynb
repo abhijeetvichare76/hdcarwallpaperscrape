{
 "metadata": {
  "language_info": {
   "codemirror_mode": {
    "name": "ipython",
    "version": 3
   },
   "file_extension": ".py",
   "mimetype": "text/x-python",
   "name": "python",
   "nbconvert_exporter": "python",
   "pygments_lexer": "ipython3",
   "version": "3.8.1-final"
  },
  "orig_nbformat": 2,
  "kernelspec": {
   "name": "Python 3.8.1 64-bit",
   "display_name": "Python 3.8.1 64-bit",
   "metadata": {
    "interpreter": {
     "hash": "f384541f2e8c514fe03977e5459e1e19224a0f13f52c4a59f6e5a18d4423c924"
    }
   }
  }
 },
 "nbformat": 4,
 "nbformat_minor": 2,
 "cells": [
  {
   "cell_type": "code",
   "execution_count": 1,
   "metadata": {
    "tags": []
   },
   "outputs": [],
   "source": [
    "\n",
    "from selenium import webdriver\n",
    "import time\n",
    "import os\n",
    "from tqdm import trange\n",
    "import requests\n"
   ]
  },
  {
   "cell_type": "code",
   "execution_count": 2,
   "metadata": {},
   "outputs": [],
   "source": [
    "download_path = r'Downloads'"
   ]
  },
  {
   "cell_type": "code",
   "execution_count": 3,
   "metadata": {},
   "outputs": [],
   "source": [
    "chromeOptions = webdriver.ChromeOptions()\n",
    "prefs = {\"download.default_directory\" : download_path}\n",
    "chromeOptions.add_experimental_option(\"prefs\",prefs)\n",
    "\n",
    "chromedriver_path = r'chromedriver_win32\\chromedriver.exe'\n",
    "driver = webdriver.Chrome(executable_path=chromedriver_path, chrome_options=chromeOptions)"
   ]
  },
  {
   "cell_type": "code",
   "execution_count": 4,
   "metadata": {},
   "outputs": [],
   "source": [
    "base_link = 'https://www.hdcarwallpapers.com/latest_wallpapers/page'"
   ]
  },
  {
   "cell_type": "code",
   "execution_count": 5,
   "metadata": {},
   "outputs": [],
   "source": [
    "def download_image(driver):\n",
    "    try:\n",
    "        for i in range(2,6):\n",
    "            try:\n",
    "                link = driver.find_element_by_xpath(f'/html/body/div[3]/div[1]/div[2]/div/div/div[1]/section/div[2]/article/div[2]/span[{i}]/a').get_attribute('href')\n",
    "            except:\n",
    "                pass\n",
    "        pic_name = link.split('/')[-1]\n",
    "        response = requests.get(link)\n",
    "\n",
    "        downloaded = os.listdir('Downloads')\n",
    "        if pic_name not in downloaded:\n",
    "            file = open(f'Downloads/{pic_name}', \"wb\")\n",
    "            file.write(response.content)\n",
    "            file.close()\n",
    "    except Exception as e:\n",
    "        print('Could not download link.',e)"
   ]
  },
  {
   "cell_type": "code",
   "execution_count": 6,
   "metadata": {},
   "outputs": [],
   "source": [
    "def get_links_from_page(driver):\n",
    "    elems = driver.find_elements_by_xpath(\"//a[@href]\")\n",
    "    all_links = []\n",
    "    for elem in elems:\n",
    "        all_links.append(elem.get_attribute(\"href\"))\n",
    "    download_links = all_links[8:32]\n",
    "    return download_links"
   ]
  },
  {
   "cell_type": "code",
   "execution_count": 3,
   "metadata": {},
   "outputs": [],
   "source": []
  },
  {
   "cell_type": "code",
   "execution_count": 7,
   "metadata": {},
   "outputs": [],
   "source": [
    "def main_loop(driver,base_link):\n",
    "    for i in trange(158,650):\n",
    "        try:\n",
    "            driver.get(f'{base_link}/{i}')\n",
    "            subpage_links = get_links_from_page(driver)\n",
    "            downloaded = os.listdir('Downloads')\n",
    "            for link in subpage_links:\n",
    "                if f'{link[:-5]}.jpg' not in downloaded:\n",
    "                    driver.get(link)\n",
    "                    download_image(driver)    \n",
    "        except:\n",
    "            print(f'Failed to get base link at page {i}')\n",
    "    return 0"
   ]
  },
  {
   "cell_type": "code",
   "execution_count": 8,
   "metadata": {
    "tags": []
   },
   "outputs": [
    {
     "output_type": "stream",
     "name": "stderr",
     "text": [
      "  0%|          | 0/492 [00:00<?, ?it/s]Could not download link. (\"Connection broken: ConnectionAbortedError(10053, 'An established connection was aborted by the software in your host machine', None, 10053, None)\", ConnectionAbortedError(10053, 'An established connection was aborted by the software in your host machine', None, 10053, None))\n",
      "Could not download link. local variable 'link' referenced before assignment\n",
      "Could not download link. local variable 'link' referenced before assignment\n",
      "Could not download link. local variable 'link' referenced before assignment\n",
      "  0%|          | 1/492 [22:53<187:18:51, 1373.38s/it]Could not download link. local variable 'link' referenced before assignment\n",
      "Could not download link. local variable 'link' referenced before assignment\n",
      "Could not download link. local variable 'link' referenced before assignment\n",
      "Could not download link. local variable 'link' referenced before assignment\n",
      "  1%|          | 3/492 [27:30<101:04:35, 744.12s/it] Could not download link. local variable 'link' referenced before assignment\n",
      "  1%|          | 4/492 [29:29<75:27:06, 556.61s/it] Could not download link. local variable 'link' referenced before assignment\n",
      "Could not download link. local variable 'link' referenced before assignment\n",
      "  4%|▍         | 19/492 [1:05:16<19:28:59, 148.29s/it]Could not download link. local variable 'link' referenced before assignment\n",
      " 11%|█         | 54/492 [2:17:01<14:01:43, 115.30s/it]Could not download link. local variable 'link' referenced before assignment\n",
      " 12%|█▏        | 58/492 [2:24:43<13:46:48, 114.30s/it]Could not download link. local variable 'link' referenced before assignment\n",
      " 12%|█▏        | 61/492 [2:30:15<13:30:14, 112.79s/it]Could not download link. local variable 'link' referenced before assignment\n",
      " 13%|█▎        | 62/492 [2:32:19<13:51:04, 115.96s/it]Could not download link. local variable 'link' referenced before assignment\n",
      " 14%|█▍        | 68/492 [2:43:59<14:00:06, 118.88s/it]Could not download link. local variable 'link' referenced before assignment\n",
      " 15%|█▌        | 75/492 [2:58:25<14:56:37, 129.01s/it]Could not download link. local variable 'link' referenced before assignment\n",
      " 17%|█▋        | 86/492 [3:20:16<13:07:38, 116.40s/it]Could not download link. local variable 'link' referenced before assignment\n",
      "Could not download link. local variable 'link' referenced before assignment\n",
      " 18%|█▊        | 87/492 [3:22:37<13:56:59, 124.00s/it]Could not download link. local variable 'link' referenced before assignment\n",
      "Could not download link. local variable 'link' referenced before assignment\n",
      " 18%|█▊        | 90/492 [3:28:36<13:46:35, 123.37s/it]Could not download link. local variable 'link' referenced before assignment\n",
      " 19%|█▉        | 94/492 [3:36:15<12:57:40, 117.24s/it]Could not download link. local variable 'link' referenced before assignment\n",
      " 20%|█▉        | 98/492 [3:44:09<12:55:22, 118.08s/it]Could not download link. local variable 'link' referenced before assignment\n",
      " 20%|██        | 99/492 [3:46:09<12:56:12, 118.51s/it]Could not download link. local variable 'link' referenced before assignment\n",
      " 20%|██        | 100/492 [3:48:15<13:08:57, 120.76s/it]Could not download link. local variable 'link' referenced before assignment\n",
      " 24%|██▎       | 116/492 [4:22:10<13:09:12, 125.94s/it]Could not download link. local variable 'link' referenced before assignment\n",
      " 25%|██▍       | 122/492 [4:33:37<11:43:33, 114.09s/it]Could not download link. local variable 'link' referenced before assignment\n",
      " 26%|██▌       | 128/492 [4:44:26<11:02:12, 109.16s/it]Could not download link. local variable 'link' referenced before assignment\n",
      " 27%|██▋       | 131/492 [4:50:13<11:20:31, 113.11s/it]Could not download link. local variable 'link' referenced before assignment\n",
      " 28%|██▊       | 139/492 [5:04:13<10:18:56, 105.20s/it]Could not download link. local variable 'link' referenced before assignment\n",
      " 29%|██▊       | 141/492 [5:07:45<10:20:13, 106.02s/it]Could not download link. local variable 'link' referenced before assignment\n",
      "Could not download link. local variable 'link' referenced before assignment\n",
      " 31%|███       | 152/492 [5:27:48<11:09:41, 118.18s/it]Could not download link. local variable 'link' referenced before assignment\n",
      " 32%|███▏      | 158/492 [5:38:32<10:17:29, 110.93s/it]Could not download link. local variable 'link' referenced before assignment\n",
      " 33%|███▎      | 161/492 [5:43:53<9:56:24, 108.11s/it] Could not download link. local variable 'link' referenced before assignment\n",
      " 36%|███▌      | 176/492 [6:11:10<9:24:07, 107.11s/it]Could not download link. local variable 'link' referenced before assignment\n",
      " 36%|███▌      | 177/492 [6:12:44<9:01:25, 103.13s/it]Could not download link. local variable 'link' referenced before assignment\n",
      " 36%|███▋      | 179/492 [6:16:09<8:59:18, 103.38s/it]Could not download link. local variable 'link' referenced before assignment\n",
      " 38%|███▊      | 185/492 [6:26:27<8:46:40, 102.93s/it]Could not download link. local variable 'link' referenced before assignment\n",
      "Could not download link. local variable 'link' referenced before assignment\n",
      " 39%|███▊      | 190/492 [6:35:59<9:18:28, 110.96s/it]Could not download link. local variable 'link' referenced before assignment\n",
      " 39%|███▉      | 193/492 [6:41:24<8:59:04, 108.18s/it]Could not download link. local variable 'link' referenced before assignment\n",
      " 43%|████▎     | 210/492 [7:10:30<7:44:53, 98.91s/it] Could not download link. local variable 'link' referenced before assignment\n",
      " 43%|████▎     | 211/492 [7:11:59<7:29:47, 96.04s/it]Could not download link. local variable 'link' referenced before assignment\n",
      " 43%|████▎     | 214/492 [7:16:54<7:30:04, 97.14s/it]Could not download link. local variable 'link' referenced before assignment\n",
      " 45%|████▌     | 222/492 [7:30:03<7:35:09, 101.15s/it]Could not download link. local variable 'link' referenced before assignment\n",
      "Could not download link. local variable 'link' referenced before assignment\n",
      " 46%|████▌     | 225/492 [7:37:23<10:01:16, 135.12s/it]Could not download link. local variable 'link' referenced before assignment\n",
      "Could not download link. local variable 'link' referenced before assignment\n",
      " 46%|████▌     | 226/492 [7:39:07<9:16:59, 125.64s/it] Could not download link. local variable 'link' referenced before assignment\n",
      "Could not download link. local variable 'link' referenced before assignment\n",
      "Could not download link. local variable 'link' referenced before assignment\n",
      " 46%|████▌     | 227/492 [7:40:31<8:20:36, 113.35s/it]Could not download link. local variable 'link' referenced before assignment\n",
      " 46%|████▋     | 228/492 [7:42:08<7:56:56, 108.39s/it]Could not download link. local variable 'link' referenced before assignment\n",
      "Could not download link. local variable 'link' referenced before assignment\n",
      " 47%|████▋     | 229/492 [7:43:36<7:27:36, 102.12s/it]Could not download link. local variable 'link' referenced before assignment\n",
      "Could not download link. local variable 'link' referenced before assignment\n",
      " 47%|████▋     | 232/492 [7:48:23<7:09:13, 99.05s/it]Could not download link. local variable 'link' referenced before assignment\n",
      "Could not download link. local variable 'link' referenced before assignment\n",
      " 47%|████▋     | 233/492 [7:49:48<6:50:11, 95.03s/it]Could not download link. local variable 'link' referenced before assignment\n",
      " 48%|████▊     | 236/492 [7:54:22<6:36:08, 92.85s/it]Could not download link. local variable 'link' referenced before assignment\n",
      " 48%|████▊     | 237/492 [7:55:49<6:27:40, 91.22s/it]Could not download link. local variable 'link' referenced before assignment\n",
      "Could not download link. local variable 'link' referenced before assignment\n",
      " 48%|████▊     | 238/492 [7:57:12<6:15:09, 88.62s/it]Could not download link. local variable 'link' referenced before assignment\n",
      " 49%|████▊     | 239/492 [7:58:39<6:12:25, 88.32s/it]Could not download link. local variable 'link' referenced before assignment\n",
      " 49%|████▉     | 240/492 [8:00:08<6:11:36, 88.48s/it]Could not download link. local variable 'link' referenced before assignment\n",
      " 49%|████▉     | 242/492 [8:03:42<6:54:18, 99.44s/it]Could not download link. local variable 'link' referenced before assignment\n",
      " 49%|████▉     | 243/492 [8:05:26<6:57:13, 100.54s/it]Could not download link. local variable 'link' referenced before assignment\n",
      "Could not download link. local variable 'link' referenced before assignment\n",
      " 50%|████▉     | 244/492 [8:07:08<6:58:22, 101.22s/it]Could not download link. local variable 'link' referenced before assignment\n",
      "Could not download link. local variable 'link' referenced before assignment\n",
      "Could not download link. local variable 'link' referenced before assignment\n",
      " 50%|█████     | 247/492 [8:12:31<7:07:47, 104.77s/it]Could not download link. local variable 'link' referenced before assignment\n",
      " 50%|█████     | 248/492 [8:13:55<6:40:32, 98.50s/it] Could not download link. local variable 'link' referenced before assignment\n",
      "Could not download link. local variable 'link' referenced before assignment\n",
      "Could not download link. local variable 'link' referenced before assignment\n",
      " 51%|█████     | 249/492 [8:15:29<6:32:53, 97.01s/it]Could not download link. local variable 'link' referenced before assignment\n",
      " 52%|█████▏    | 255/492 [8:25:21<6:39:25, 101.12s/it]Could not download link. local variable 'link' referenced before assignment\n",
      " 53%|█████▎    | 261/492 [8:35:12<6:18:37, 98.34s/it] Could not download link. local variable 'link' referenced before assignment\n",
      " 53%|█████▎    | 262/492 [8:36:37<6:01:12, 94.23s/it]Could not download link. HTTPSConnectionPool(host='www.hdcarwallpapers.com', port=443): Max retries exceeded with url: /walls/volkswagen_golf_gte_sport_concept-HD.jpg (Caused by NewConnectionError('<urllib3.connection.HTTPSConnection object at 0x000001F383D01580>: Failed to establish a new connection: [WinError 10060] A connection attempt failed because the connected party did not properly respond after a period of time, or established connection failed because connected host has failed to respond'))\n",
      " 53%|█████▎    | 263/492 [8:38:26<6:16:50, 98.74s/it]Could not download link. local variable 'link' referenced before assignment\n",
      " 54%|█████▍    | 268/492 [8:46:04<5:47:30, 93.08s/it]Could not download link. local variable 'link' referenced before assignment\n",
      " 55%|█████▍    | 270/492 [8:49:19<5:54:03, 95.69s/it]Could not download link. local variable 'link' referenced before assignment\n",
      " 55%|█████▌    | 271/492 [8:50:52<5:49:15, 94.82s/it]Could not download link. local variable 'link' referenced before assignment\n",
      " 56%|█████▌    | 274/492 [8:55:54<5:58:03, 98.55s/it]Could not download link. local variable 'link' referenced before assignment\n",
      " 56%|█████▌    | 276/492 [8:59:07<5:50:03, 97.24s/it]Could not download link. local variable 'link' referenced before assignment\n",
      " 56%|█████▋    | 277/492 [9:00:41<5:44:13, 96.06s/it]Could not download link. local variable 'link' referenced before assignment\n",
      " 57%|█████▋    | 279/492 [9:04:07<5:58:20, 100.94s/it]Could not download link. local variable 'link' referenced before assignment\n",
      " 57%|█████▋    | 282/492 [9:09:24<6:03:50, 103.96s/it]Could not download link. local variable 'link' referenced before assignment\n",
      " 58%|█████▊    | 285/492 [9:14:05<5:38:00, 97.97s/it]Could not download link. local variable 'link' referenced before assignment\n",
      " 59%|█████▊    | 289/492 [9:20:16<5:21:32, 95.04s/it]Could not download link. local variable 'link' referenced before assignment\n",
      "Could not download link. local variable 'link' referenced before assignment\n",
      " 59%|█████▉    | 292/492 [9:24:46<5:06:37, 91.99s/it]Could not download link. local variable 'link' referenced before assignment\n",
      " 60%|█████▉    | 293/492 [9:26:19<5:06:34, 92.43s/it]Could not download link. local variable 'link' referenced before assignment\n",
      " 60%|██████    | 296/492 [9:30:42<4:52:09, 89.44s/it]Could not download link. local variable 'link' referenced before assignment\n",
      " 61%|██████    | 298/492 [9:33:57<5:02:45, 93.63s/it]Could not download link. local variable 'link' referenced before assignment\n",
      "Could not download link. local variable 'link' referenced before assignment\n",
      " 61%|██████    | 301/492 [9:38:22<4:48:33, 90.65s/it]Could not download link. local variable 'link' referenced before assignment\n",
      "Could not download link. local variable 'link' referenced before assignment\n",
      " 62%|██████▏   | 303/492 [9:41:11<4:36:22, 87.74s/it]Could not download link. local variable 'link' referenced before assignment\n",
      " 62%|██████▏   | 305/492 [9:44:10<4:37:16, 88.96s/it]Could not download link. local variable 'link' referenced before assignment\n",
      " 62%|██████▏   | 306/492 [9:45:34<4:31:53, 87.70s/it]Could not download link. local variable 'link' referenced before assignment\n",
      " 63%|██████▎   | 310/492 [9:51:31<4:26:56, 88.00s/it]Could not download link. local variable 'link' referenced before assignment\n",
      " 63%|██████▎   | 311/492 [9:52:55<4:22:02, 86.87s/it]Could not download link. local variable 'link' referenced before assignment\n",
      " 65%|██████▍   | 318/492 [10:02:52<4:10:38, 86.43s/it]Could not download link. local variable 'link' referenced before assignment\n",
      " 65%|██████▍   | 319/492 [10:04:17<4:08:14, 86.10s/it]Could not download link. local variable 'link' referenced before assignment\n",
      " 65%|██████▌   | 321/492 [10:07:00<3:58:59, 83.85s/it]Could not download link. local variable 'link' referenced before assignment\n",
      " 65%|██████▌   | 322/492 [10:08:21<3:55:08, 82.99s/it]Could not download link. local variable 'link' referenced before assignment\n",
      " 66%|██████▌   | 325/492 [10:12:28<3:50:26, 82.79s/it]Could not download link. local variable 'link' referenced before assignment\n",
      " 67%|██████▋   | 328/492 [10:16:39<3:48:17, 83.52s/it]Could not download link. local variable 'link' referenced before assignment\n",
      " 67%|██████▋   | 329/492 [10:18:00<3:44:46, 82.74s/it]Could not download link. local variable 'link' referenced before assignment\n",
      " 67%|██████▋   | 330/492 [10:19:23<3:43:42, 82.86s/it]Could not download link. local variable 'link' referenced before assignment\n",
      " 69%|██████▉   | 340/492 [10:33:10<3:28:29, 82.30s/it]Could not download link. local variable 'link' referenced before assignment\n",
      " 71%|███████   | 349/492 [10:45:42<3:13:42, 81.28s/it]Could not download link. local variable 'link' referenced before assignment\n",
      " 76%|███████▌  | 374/492 [11:20:56<2:46:10, 84.49s/it]Could not download link. local variable 'link' referenced before assignment\n",
      " 77%|███████▋  | 380/492 [11:29:26<2:37:22, 84.31s/it]Could not download link. local variable 'link' referenced before assignment\n",
      " 79%|███████▉  | 390/492 [11:43:35<2:25:36, 85.65s/it]Could not download link. local variable 'link' referenced before assignment\n",
      " 80%|███████▉  | 392/492 [11:46:22<2:21:03, 84.63s/it]Could not download link. local variable 'link' referenced before assignment\n",
      " 80%|████████  | 396/492 [11:51:47<2:12:29, 82.80s/it]Could not download link. local variable 'link' referenced before assignment\n",
      " 81%|████████  | 398/492 [11:54:20<2:04:49, 79.67s/it]Could not download link. local variable 'link' referenced before assignment\n",
      " 82%|████████▏ | 403/492 [12:00:48<1:54:03, 76.89s/it]Could not download link. local variable 'link' referenced before assignment\n",
      " 82%|████████▏ | 404/492 [12:01:55<1:48:35, 74.04s/it]Could not download link. local variable 'link' referenced before assignment\n",
      " 83%|████████▎ | 409/492 [12:07:48<1:38:13, 71.00s/it]Could not download link. local variable 'link' referenced before assignment\n",
      " 84%|████████▍ | 414/492 [12:13:28<1:29:48, 69.08s/it]Could not download link. local variable 'link' referenced before assignment\n",
      " 88%|████████▊ | 431/492 [12:32:53<1:08:59, 67.86s/it]Could not download link. local variable 'link' referenced before assignment\n",
      " 88%|████████▊ | 434/492 [12:36:26<1:07:48, 70.15s/it]Could not download link. local variable 'link' referenced before assignment\n",
      " 89%|████████▉ | 439/492 [12:42:14<1:03:12, 71.56s/it]Could not download link. local variable 'link' referenced before assignment\n",
      " 89%|████████▉ | 440/492 [12:43:20<1:00:40, 70.00s/it]Could not download link. local variable 'link' referenced before assignment\n",
      " 90%|█████████ | 444/492 [12:47:53<54:55, 68.66s/it]Could not download link. local variable 'link' referenced before assignment\n",
      " 90%|█████████ | 445/492 [12:49:01<53:26, 68.23s/it]Could not download link. local variable 'link' referenced before assignment\n",
      " 91%|█████████ | 448/492 [12:52:23<49:43, 67.80s/it]Could not download link. local variable 'link' referenced before assignment\n",
      " 92%|█████████▏| 453/492 [12:58:06<44:34, 68.57s/it]Could not download link. local variable 'link' referenced before assignment\n",
      " 92%|█████████▏| 454/492 [12:59:14<43:14, 68.29s/it]Could not download link. local variable 'link' referenced before assignment\n",
      " 93%|█████████▎| 457/492 [13:02:33<39:09, 67.12s/it]Could not download link. local variable 'link' referenced before assignment\n",
      " 93%|█████████▎| 458/492 [13:03:41<38:12, 67.43s/it]Could not download link. local variable 'link' referenced before assignment\n",
      " 95%|█████████▍| 466/492 [13:12:55<29:44, 68.62s/it]Could not download link. local variable 'link' referenced before assignment\n",
      " 96%|█████████▌| 472/492 [13:19:42<22:36, 67.83s/it]Could not download link. local variable 'link' referenced before assignment\n",
      " 96%|█████████▋| 474/492 [13:22:01<20:41, 68.96s/it]Could not download link. local variable 'link' referenced before assignment\n",
      " 97%|█████████▋| 475/492 [13:23:05<19:10, 67.66s/it]Could not download link. local variable 'link' referenced before assignment\n",
      " 97%|█████████▋| 477/492 [13:24:11<11:47, 47.14s/it]Failed to get base link at page 634\n",
      "100%|██████████| 492/492 [13:24:12<00:00, 98.07s/it]Failed to get base link at page 635\n",
      "Failed to get base link at page 636\n",
      "Failed to get base link at page 637\n",
      "Failed to get base link at page 638\n",
      "Failed to get base link at page 639\n",
      "Failed to get base link at page 640\n",
      "Failed to get base link at page 641\n",
      "Failed to get base link at page 642\n",
      "Failed to get base link at page 643\n",
      "Failed to get base link at page 644\n",
      "Failed to get base link at page 645\n",
      "Failed to get base link at page 646\n",
      "Failed to get base link at page 647\n",
      "Failed to get base link at page 648\n",
      "Failed to get base link at page 649\n",
      "\n"
     ]
    },
    {
     "output_type": "execute_result",
     "data": {
      "text/plain": [
       "0"
      ]
     },
     "metadata": {},
     "execution_count": 8
    }
   ],
   "source": [
    "main_loop(driver,base_link)"
   ]
  },
  {
   "cell_type": "code",
   "execution_count": 9,
   "metadata": {},
   "outputs": [],
   "source": [
    "downloaded = os.listdir('Downloads')"
   ]
  },
  {
   "cell_type": "code",
   "execution_count": null,
   "metadata": {},
   "outputs": [],
   "source": []
  }
 ]
}